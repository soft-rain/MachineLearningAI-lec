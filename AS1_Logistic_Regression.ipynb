{
  "nbformat": 4,
  "nbformat_minor": 0,
  "metadata": {
    "anaconda-cloud": {},
    "colab": {
      "name": "AS1-Logistic_Regression.ipynb",
      "provenance": [],
      "collapsed_sections": []
    },
    "kernelspec": {
      "display_name": "Python 3",
      "language": "python",
      "name": "python3"
    },
    "language_info": {
      "codemirror_mode": {
        "name": "ipython",
        "version": 3
      },
      "file_extension": ".py",
      "mimetype": "text/x-python",
      "name": "python",
      "nbconvert_exporter": "python",
      "pygments_lexer": "ipython3",
      "version": "3.5.2"
    }
  },
  "cells": [
    {
      "cell_type": "markdown",
      "metadata": {
        "id": "t6j5WcA3GbSk"
      },
      "source": [
        "#Assignment 1: Logistic Regression"
      ]
    },
    {
      "cell_type": "markdown",
      "metadata": {
        "id": "ei9BMeksGbSn"
      },
      "source": [
        "## Dataset load & Plot"
      ]
    },
    {
      "cell_type": "code",
      "metadata": {
        "id": "Vlb19coAGbSo"
      },
      "source": [
        "%matplotlib inline\n",
        "import numpy as np\n",
        "import matplotlib.pyplot as plt\n",
        "from sklearn.linear_model import LogisticRegression\n",
        "from warnings import filterwarnings\n",
        "filterwarnings('ignore')"
      ],
      "execution_count": null,
      "outputs": []
    },
    {
      "cell_type": "code",
      "metadata": {
        "id": "xV9Z9RPMGbSt",
        "scrolled": true
      },
      "source": [
        "data = np.loadtxt('data.csv', delimiter=',')\n",
        "X = data[:, :2]\n",
        "y = data[:, 2]\n",
        "label_mask = np.equal(y, 1)\n",
        "\n",
        "plt.scatter(X[:, 0][label_mask], X[:, 1][label_mask], color='red')\n",
        "plt.scatter(X[:, 0][~label_mask], X[:, 1][~label_mask], color='blue')\n",
        "plt.show()"
      ],
      "execution_count": null,
      "outputs": []
    },
    {
      "cell_type": "markdown",
      "metadata": {
        "id": "kwcWe3pDGbSy"
      },
      "source": [
        "# Problem 1-1. Logistic regression model using sklearn packages.\n",
        "\n",
        "Train your data using LogisticRegression classes from skikit-learn library.\n"
      ]
    },
    {
      "cell_type": "code",
      "metadata": {
        "id": "ONWQ_Q5yGbS0"
      },
      "source": [
        "def learn_and_return_weights(X, y):\n",
        "    from sklearn.linear_model import LogisticRegression\n",
        "    # YOUR CODE COMES HERE\n",
        "    # w: coefficient of the model to input features,\n",
        "    # b: bias of the model\n",
        "    return w, b"
      ],
      "execution_count": null,
      "outputs": []
    },
    {
      "cell_type": "code",
      "metadata": {
        "id": "HkQB55lkGbS3"
      },
      "source": [
        "def plot_data_and_weights(X, y, w, b):\n",
        "    plt.scatter(X[:, 0][label_mask], X[:, 1][label_mask], color='red')\n",
        "    plt.scatter(X[:, 0][~label_mask], X[:, 1][~label_mask], color='blue')\n",
        "\n",
        "    x_lin = np.arange(20, 70)\n",
        "    y_lin = -(0.5 + b + w[0] * x_lin) / w[1]\n",
        "\n",
        "    plt.plot(x_lin, y_lin, color='black');\n",
        "    plt.show()\n",
        "\n",
        "w, b = learn_and_return_weights(X, y)\n",
        "plot_data_and_weights(X, y, w, b)"
      ],
      "execution_count": null,
      "outputs": []
    },
    {
      "cell_type": "markdown",
      "metadata": {
        "id": "jKYz83ecGbS6"
      },
      "source": [
        "## Problem 1-2. Implement Logistic Regression Model\n",
        "\n",
        "Implement Logistic Regression without using scikit-learn libraries.\n"
      ]
    },
    {
      "cell_type": "code",
      "metadata": {
        "id": "eGTRLxvsGbS7"
      },
      "source": [
        "def sigmoid(z):\n",
        "    # YOUR CODE COMES HERE\n",
        "     \n",
        "\n",
        "def binary_cross_entropy_loss(y_pred, target):\n",
        "    # YOUR CODE COMES HERE\n",
        "\n",
        "def learn_and_return_weights_numpy(X, Y, lr=.01, iter=100000):\n",
        "    # YOUR CODE COMES HERE\n",
        "    # w: coefficient of the model to input features,\n",
        "    # b: bias of the model\n",
        "    return W, b"
      ],
      "execution_count": null,
      "outputs": []
    },
    {
      "cell_type": "code",
      "metadata": {
        "id": "ryO_ItqRGbS_"
      },
      "source": [
        "w, b = learn_and_return_weights_numpy(X, y)\n",
        "plot_data_and_weights(X, y, w, b)"
      ],
      "execution_count": null,
      "outputs": []
    }
  ]
}